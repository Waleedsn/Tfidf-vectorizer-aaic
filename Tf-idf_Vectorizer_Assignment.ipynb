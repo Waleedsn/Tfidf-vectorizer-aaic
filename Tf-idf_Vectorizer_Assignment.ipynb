{
 "cells": [
  {
   "cell_type": "markdown",
   "metadata": {},
   "source": [
    "# Task-1\n",
    "# 1. Build a TFIDF Vectorizer & compare its results with Sklearn:¶\n"
   ]
  },
  {
   "cell_type": "code",
   "execution_count": 1,
   "metadata": {},
   "outputs": [],
   "source": [
    "from collections import Counter #CALCULATING FREQUENCY\n",
    "from tqdm import tqdm\n",
    "from scipy.sparse import csr_matrix #CREATING SPARSE MATRIX\n",
    "import math\n",
    "import operator\n",
    "from sklearn.preprocessing import normalize\n",
    "import numpy\n",
    "\n"
   ]
  },
  {
   "cell_type": "markdown",
   "metadata": {},
   "source": [
    "# FUNCTION FOR FIND INVERSE DOCUMENT FREQUENCY"
   ]
  },
  {
   "cell_type": "code",
   "execution_count": 2,
   "metadata": {},
   "outputs": [],
   "source": [
    "#CALLED INSIDE FIT FUNCTION\n",
    "def IDF(dataset, uniquewords):\n",
    "    idf_dict={}\n",
    "    N=len(dataset)\n",
    "    for word in uniquewords:\n",
    "        count=0\n",
    "        for idx, row in enumerate(dataset):\n",
    "            if (word in row.split(\" \")):      \n",
    "                count=count+1\n",
    "            idf_dict[word]=1+(math.log((1+N)/(1+count)))#IDF FORMULA\n",
    "    return idf_dict"
   ]
  },
  {
   "cell_type": "markdown",
   "metadata": {},
   "source": [
    "# Fit Function"
   ]
  },
  {
   "cell_type": "code",
   "execution_count": 3,
   "metadata": {},
   "outputs": [],
   "source": [
    "#CALLED FROM DRIVER CODE\n",
    "#RETURN VOCABULARY AND IDF VALUE OF EACH UNIQUE WORD\n",
    "def fit(dataset):\n",
    "    uniquewords = set()            #SET DOESNT ALLOW DUPLICATE ITEMS\n",
    "    if isinstance(dataset,(list,)):     #CHECKS IF DATASET IS LIST\n",
    "        for row in dataset:\n",
    "            for word in row.split(\" \"):\n",
    "                if len(word)<2:\n",
    "                    continue\n",
    "                uniquewords.add(word)\n",
    "        uniquewords = sorted(list(uniquewords))\n",
    "        vocab = {j:i for i,j in enumerate(uniquewords)}\n",
    "        Idf_values=IDF(dataset,uniquewords)      #FUNCTION CALL\n",
    "        return vocab,Idf_values\n",
    "    else:\n",
    "        print(\"you need to pass list of sentance\")\n"
   ]
  },
  {
   "cell_type": "markdown",
   "metadata": {},
   "source": [
    "# Transform function"
   ]
  },
  {
   "cell_type": "code",
   "execution_count": 4,
   "metadata": {},
   "outputs": [],
   "source": [
    "def transform(dataset, vocab, Idf_values):\n",
    "    rows=[]\n",
    "    columns=[]\n",
    "    values=[]\n",
    "    for idx, row in enumerate(dataset):\n",
    "        word_freq=dict(Counter(row.split()))  #COUNTER FOR FINDING FREQUENCY\n",
    "        for word,freq in word_freq.items():\n",
    "            tf=(freq/len(row.split()))    #TERM FREQUENCY\n",
    "            col_index=vocab.get(word,-1)\n",
    "            if col_index !=-1:\n",
    "                rows.append(idx)\n",
    "                columns.append(col_index)\n",
    "                values.append(Idf_values[word]*(tf)) #TF-IDF VALUE CALCULATED AND APPENDED\n",
    "    return normalize(csr_matrix( ((values),(rows,columns)), shape=(len(dataset),len(vocab))),norm='l2' )\n",
    "                       #RETURNING NORMALIZED MATRIX AS OUTPUT"
   ]
  },
  {
   "cell_type": "markdown",
   "metadata": {},
   "source": [
    "# Driver code for custom implementation"
   ]
  },
  {
   "cell_type": "code",
   "execution_count": 5,
   "metadata": {},
   "outputs": [
    {
     "name": "stdout",
     "output_type": "stream",
     "text": [
      "[[0.         0.46979139 0.58028582 0.38408524 0.         0.\n",
      "  0.38408524 0.         0.38408524]]\n",
      "dict_keys(['and', 'document', 'first', 'is', 'one', 'second', 'the', 'third', 'this'])\n",
      "dict_values([1.916290731874155, 1.2231435513142097, 1.5108256237659907, 1.0, 1.916290731874155, 1.916290731874155, 1.0, 1.916290731874155, 1.0])\n"
     ]
    }
   ],
   "source": [
    "#DRIVER CODE FOR CUSTOM IMPLEMENTATION\n",
    "dataset=['this is the first document','this document is the second document','and this is the third one','is this the first document']\n",
    "\n",
    "vocab, Idf_values = fit(dataset)\n",
    "x1=transform(dataset, vocab,Idf_values)\n",
    "print(x1[0].toarray())\n",
    "print(vocab.keys())\n",
    "print(Idf_values.values())"
   ]
  },
  {
   "cell_type": "markdown",
   "metadata": {},
   "source": [
    "# sci-kit learn implementation"
   ]
  },
  {
   "cell_type": "code",
   "execution_count": 6,
   "metadata": {},
   "outputs": [
    {
     "name": "stdout",
     "output_type": "stream",
     "text": [
      "[[0.         0.46979139 0.58028582 0.38408524 0.         0.\n",
      "  0.38408524 0.         0.38408524]]\n",
      "['and', 'document', 'first', 'is', 'one', 'second', 'the', 'third', 'this']\n",
      "[1.91629073 1.22314355 1.51082562 1.         1.91629073 1.91629073\n",
      " 1.         1.91629073 1.        ]\n"
     ]
    }
   ],
   "source": [
    "#SKLEARN IMPLEMENTATION\n",
    "from sklearn.feature_extraction.text import TfidfVectorizer\n",
    "vectorizer = TfidfVectorizer()\n",
    "vectorizer.fit(dataset)\n",
    "skl_output = vectorizer.transform(dataset)\n",
    "print(skl_output[0].toarray())\n",
    "print(vectorizer.get_feature_names())\n",
    "print(vectorizer.idf_)"
   ]
  },
  {
   "cell_type": "markdown",
   "metadata": {},
   "source": [
    "# we get same output on both custom and scikit learn implementation"
   ]
  },
  {
   "cell_type": "markdown",
   "metadata": {},
   "source": [
    "# Task-2\n",
    "# 2. Implement max features functionality"
   ]
  },
  {
   "cell_type": "code",
   "execution_count": 7,
   "metadata": {},
   "outputs": [
    {
     "name": "stdout",
     "output_type": "stream",
     "text": [
      "Number of documents in dataset =  746\n"
     ]
    }
   ],
   "source": [
    "import pickle\n",
    "with open('cleaned_strings', 'rb') as f:\n",
    "    dataset = pickle.load(f)\n",
    "    \n",
    "# printing the length of the corpus loaded\n",
    "print(\"Number of documents in dataset = \",len(dataset))"
   ]
  },
  {
   "cell_type": "markdown",
   "metadata": {},
   "source": [
    "# Libraries"
   ]
  },
  {
   "cell_type": "code",
   "execution_count": 8,
   "metadata": {},
   "outputs": [],
   "source": [
    "from collections import Counter #CALCULATING FREQUENCY\n",
    "from tqdm import tqdm\n",
    "from scipy.sparse import csr_matrix #CREATING SPARSE MATRIX\n",
    "import math\n",
    "import operator\n",
    "from sklearn.preprocessing import normalize\n",
    "import numpy"
   ]
  },
  {
   "cell_type": "markdown",
   "metadata": {},
   "source": [
    "# Idf calculation"
   ]
  },
  {
   "cell_type": "code",
   "execution_count": 9,
   "metadata": {},
   "outputs": [],
   "source": [
    "#FUNCTION FOR FIND INVERSE DOCUMENT FREQUENCY\n",
    "#CALLED INSIDE FIT FUNCTION\n",
    "def IDF(dataset, uniquewords):\n",
    "    idf_dict={}\n",
    "    N=len(dataset)\n",
    "    for word in uniquewords:\n",
    "        count=0\n",
    "        for idx, row in enumerate(dataset):\n",
    "            if (word in row.split(\" \")):      \n",
    "                count=count+1\n",
    "            idf_dict[word]=1+(math.log((1+N)/(1+count)))#IDF FORMULA\n",
    "    return idf_dict"
   ]
  },
  {
   "cell_type": "markdown",
   "metadata": {},
   "source": [
    "# Fit Function and transform function"
   ]
  },
  {
   "cell_type": "code",
   "execution_count": 10,
   "metadata": {},
   "outputs": [],
   "source": [
    "\n",
    "#CALLED FROM DRIVER CODE\n",
    "#RETURN VOCABULARY AND IDF VALUE OF EACH UNIQUE WORD\n",
    "def fit(dataset):\n",
    "    uniquewords = set()            #SET DOESNT ALLOW DUPLICATE ITEMS\n",
    "    if isinstance(dataset,(list,)):     #CHECKS IF DATASET IS LIST\n",
    "        for row in dataset:\n",
    "            for word in row.split(\" \"):\n",
    "                if len(word)<2:\n",
    "                    continue\n",
    "                uniquewords.add(word)\n",
    "        uniquewords = sorted(list(uniquewords))\n",
    "        vocab = {j:i for i,j in enumerate(uniquewords)}\n",
    "        \n",
    "        Idf_values=IDF(dataset,uniquewords)      #FUNCTION CALL\n",
    "        Idf_values = dict(sorted(Idf_values.items(), key = operator.itemgetter(1), reverse = True)[:50])\n",
    "        result = {key: vocab[key] for key in Idf_values if key in vocab}\n",
    "        vocab = {j:i for i,j in enumerate(result)}\n",
    "        return vocab,Idf_values\n",
    "    else:\n",
    "        print(\"you need to pass list of sentance\")\n",
    "\n",
    "        \n",
    "def transform(dataset, vocab, Idf_values):\n",
    "    rows=[]\n",
    "    columns=[]\n",
    "    values=[]\n",
    "    for idx, row in enumerate(dataset):\n",
    "        word_freq=dict(Counter(row.split()))  #COUNTER FOR FINDING FREQUENCY\n",
    "        for word,freq in word_freq.items():\n",
    "            col_index=vocab.get(word,-1)\n",
    "            if col_index !=-1:\n",
    "                rows.append(idx)\n",
    "                columns.append(col_index)\n",
    "                values.append(Idf_values[word]*(freq/len(row.split()))) #TF-IDF VALUE CALCULATED AND APPENDED\n",
    "    return normalize(csr_matrix( ((values),(rows,columns)), shape=(len(dataset),len(vocab))),norm='l2' )\n",
    "                       #RETURNING NORMALIZED MATRIX AS OUTPUT\n"
   ]
  },
  {
   "cell_type": "markdown",
   "metadata": {},
   "source": [
    "# DRIVER CODE FOR CUSTOM IMPLEMENTATION\n"
   ]
  },
  {
   "cell_type": "code",
   "execution_count": 11,
   "metadata": {},
   "outputs": [
    {
     "name": "stdout",
     "output_type": "stream",
     "text": [
      "[[0. 0. 0. 0. 0. 0. 0. 0. 0. 0. 0. 0. 0. 0. 0. 0. 0. 0. 0. 0. 0. 0. 0. 0.\n",
      "  0. 0. 0. 0. 0. 0. 1. 0. 0. 0. 0. 0. 0. 0. 0. 0. 0. 0. 0. 0. 0. 0. 0. 0.\n",
      "  0. 0.]]\n",
      "(1, 50)\n"
     ]
    }
   ],
   "source": [
    "vocab, Idf_values = fit(dataset)\n",
    "x1=transform(dataset, vocab,Idf_values)\n",
    "x2=x1[0].toarray()\n",
    "print(x2)\n",
    "print(x2.shape)"
   ]
  },
  {
   "cell_type": "markdown",
   "metadata": {},
   "source": [
    "# Vocabulary"
   ]
  },
  {
   "cell_type": "code",
   "execution_count": 12,
   "metadata": {},
   "outputs": [
    {
     "name": "stdout",
     "output_type": "stream",
     "text": [
      "List of words in vocabulary\n",
      "dict_keys(['aailiyah', 'abandoned', 'abroad', 'abstruse', 'academy', 'accents', 'accessible', 'acclaimed', 'accolades', 'accurate', 'accurately', 'achille', 'ackerman', 'actions', 'adams', 'add', 'added', 'admins', 'admiration', 'admitted', 'adrift', 'adventure', 'aesthetically', 'affected', 'affleck', 'afternoon', 'aged', 'ages', 'agree', 'agreed', 'aimless', 'aired', 'akasha', 'akin', 'alert', 'alike', 'allison', 'allow', 'allowing', 'alongside', 'amateurish', 'amaze', 'amazed', 'amazingly', 'amusing', 'amust', 'anatomist', 'angel', 'angela', 'angelina'])\n",
      "dict_values([6.922918004572872, 6.922918004572872, 6.922918004572872, 6.922918004572872, 6.922918004572872, 6.922918004572872, 6.922918004572872, 6.922918004572872, 6.922918004572872, 6.922918004572872, 6.922918004572872, 6.922918004572872, 6.922918004572872, 6.922918004572872, 6.922918004572872, 6.922918004572872, 6.922918004572872, 6.922918004572872, 6.922918004572872, 6.922918004572872, 6.922918004572872, 6.922918004572872, 6.922918004572872, 6.922918004572872, 6.922918004572872, 6.922918004572872, 6.922918004572872, 6.922918004572872, 6.922918004572872, 6.922918004572872, 6.922918004572872, 6.922918004572872, 6.922918004572872, 6.922918004572872, 6.922918004572872, 6.922918004572872, 6.922918004572872, 6.922918004572872, 6.922918004572872, 6.922918004572872, 6.922918004572872, 6.922918004572872, 6.922918004572872, 6.922918004572872, 6.922918004572872, 6.922918004572872, 6.922918004572872, 6.922918004572872, 6.922918004572872, 6.922918004572872])\n"
     ]
    }
   ],
   "source": [
    "print(\"List of words in vocabulary\")\n",
    "print(vocab.keys())\n",
    "\n",
    "print(Idf_values.values())\n"
   ]
  },
  {
   "cell_type": "markdown",
   "metadata": {},
   "source": [
    "# the shape of dense matrix output is 1,50\n",
    "## Vocabulary of 50 words with top idf scores is also printed in descending order"
   ]
  }
 ],
 "metadata": {
  "kernelspec": {
   "display_name": "Python 3",
   "language": "python",
   "name": "python3"
  },
  "language_info": {
   "codemirror_mode": {
    "name": "ipython",
    "version": 3
   },
   "file_extension": ".py",
   "mimetype": "text/x-python",
   "name": "python",
   "nbconvert_exporter": "python",
   "pygments_lexer": "ipython3",
   "version": "3.7.3"
  }
 },
 "nbformat": 4,
 "nbformat_minor": 2
}
